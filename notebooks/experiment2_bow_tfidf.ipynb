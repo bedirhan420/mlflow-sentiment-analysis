{
 "cells": [
  {
   "cell_type": "code",
   "execution_count": 10,
   "id": "a8b069b1",
   "metadata": {},
   "outputs": [],
   "source": [
    "import mlflow\n",
    "import mlflow.sklearn\n",
    "from sklearn.ensemble import RandomForestClassifier\n",
    "from sklearn.feature_extraction.text import CountVectorizer,TfidfVectorizer\n",
    "from sklearn.model_selection import train_test_split,cross_val_predict,StratifiedKFold\n",
    "from sklearn.metrics import accuracy_score,classification_report,confusion_matrix\n",
    "import pandas as pd\n",
    "import matplotlib.pyplot as plt\n",
    "import seaborn as sns"
   ]
  },
  {
   "cell_type": "code",
   "execution_count": 11,
   "id": "aeb054a0",
   "metadata": {},
   "outputs": [],
   "source": [
    "tracking_uri = \"http://ec2-16-170-247-92.eu-north-1.compute.amazonaws.com:5000\" "
   ]
  },
  {
   "cell_type": "code",
   "execution_count": 12,
   "id": "bca5c829",
   "metadata": {},
   "outputs": [
    {
     "data": {
      "text/html": [
       "<div>\n",
       "<style scoped>\n",
       "    .dataframe tbody tr th:only-of-type {\n",
       "        vertical-align: middle;\n",
       "    }\n",
       "\n",
       "    .dataframe tbody tr th {\n",
       "        vertical-align: top;\n",
       "    }\n",
       "\n",
       "    .dataframe thead th {\n",
       "        text-align: right;\n",
       "    }\n",
       "</style>\n",
       "<table border=\"1\" class=\"dataframe\">\n",
       "  <thead>\n",
       "    <tr style=\"text-align: right;\">\n",
       "      <th></th>\n",
       "      <th>Unnamed: 0</th>\n",
       "      <th>text</th>\n",
       "      <th>category</th>\n",
       "      <th>word_count</th>\n",
       "      <th>num_chars</th>\n",
       "      <th>num_punctuation_chars</th>\n",
       "    </tr>\n",
       "  </thead>\n",
       "  <tbody>\n",
       "    <tr>\n",
       "      <th>0</th>\n",
       "      <td>0</td>\n",
       "      <td>family mormon never tried explain still stare ...</td>\n",
       "      <td>1</td>\n",
       "      <td>39</td>\n",
       "      <td>259</td>\n",
       "      <td>0</td>\n",
       "    </tr>\n",
       "    <tr>\n",
       "      <th>1</th>\n",
       "      <td>1</td>\n",
       "      <td>buddhism much lot compatible christianity espe...</td>\n",
       "      <td>1</td>\n",
       "      <td>196</td>\n",
       "      <td>1268</td>\n",
       "      <td>0</td>\n",
       "    </tr>\n",
       "    <tr>\n",
       "      <th>2</th>\n",
       "      <td>2</td>\n",
       "      <td>seriously say thing first get complex explain ...</td>\n",
       "      <td>-1</td>\n",
       "      <td>86</td>\n",
       "      <td>459</td>\n",
       "      <td>0</td>\n",
       "    </tr>\n",
       "    <tr>\n",
       "      <th>3</th>\n",
       "      <td>3</td>\n",
       "      <td>learned want teach different focus goal wrappi...</td>\n",
       "      <td>0</td>\n",
       "      <td>29</td>\n",
       "      <td>167</td>\n",
       "      <td>0</td>\n",
       "    </tr>\n",
       "    <tr>\n",
       "      <th>4</th>\n",
       "      <td>4</td>\n",
       "      <td>benefit may want read living buddha living chr...</td>\n",
       "      <td>1</td>\n",
       "      <td>112</td>\n",
       "      <td>690</td>\n",
       "      <td>0</td>\n",
       "    </tr>\n",
       "    <tr>\n",
       "      <th>...</th>\n",
       "      <td>...</td>\n",
       "      <td>...</td>\n",
       "      <td>...</td>\n",
       "      <td>...</td>\n",
       "      <td>...</td>\n",
       "      <td>...</td>\n",
       "    </tr>\n",
       "    <tr>\n",
       "      <th>199697</th>\n",
       "      <td>162975</td>\n",
       "      <td>crore paid neerav modi recovered congress lead...</td>\n",
       "      <td>-1</td>\n",
       "      <td>18</td>\n",
       "      <td>107</td>\n",
       "      <td>0</td>\n",
       "    </tr>\n",
       "    <tr>\n",
       "      <th>199698</th>\n",
       "      <td>162976</td>\n",
       "      <td>dear rss terrorist payal gawar modi killing pl...</td>\n",
       "      <td>-1</td>\n",
       "      <td>36</td>\n",
       "      <td>248</td>\n",
       "      <td>0</td>\n",
       "    </tr>\n",
       "    <tr>\n",
       "      <th>199699</th>\n",
       "      <td>162977</td>\n",
       "      <td>cover interaction forum left</td>\n",
       "      <td>0</td>\n",
       "      <td>9</td>\n",
       "      <td>50</td>\n",
       "      <td>0</td>\n",
       "    </tr>\n",
       "    <tr>\n",
       "      <th>199700</th>\n",
       "      <td>162978</td>\n",
       "      <td>big project came india modi dream project happ...</td>\n",
       "      <td>0</td>\n",
       "      <td>13</td>\n",
       "      <td>77</td>\n",
       "      <td>0</td>\n",
       "    </tr>\n",
       "    <tr>\n",
       "      <th>199701</th>\n",
       "      <td>162979</td>\n",
       "      <td>ever listen like gurukul discipline maintained...</td>\n",
       "      <td>1</td>\n",
       "      <td>34</td>\n",
       "      <td>215</td>\n",
       "      <td>0</td>\n",
       "    </tr>\n",
       "  </tbody>\n",
       "</table>\n",
       "<p>199702 rows × 6 columns</p>\n",
       "</div>"
      ],
      "text/plain": [
       "        Unnamed: 0                                               text  \\\n",
       "0                0  family mormon never tried explain still stare ...   \n",
       "1                1  buddhism much lot compatible christianity espe...   \n",
       "2                2  seriously say thing first get complex explain ...   \n",
       "3                3  learned want teach different focus goal wrappi...   \n",
       "4                4  benefit may want read living buddha living chr...   \n",
       "...            ...                                                ...   \n",
       "199697      162975  crore paid neerav modi recovered congress lead...   \n",
       "199698      162976  dear rss terrorist payal gawar modi killing pl...   \n",
       "199699      162977                       cover interaction forum left   \n",
       "199700      162978  big project came india modi dream project happ...   \n",
       "199701      162979  ever listen like gurukul discipline maintained...   \n",
       "\n",
       "        category  word_count  num_chars  num_punctuation_chars  \n",
       "0              1          39        259                      0  \n",
       "1              1         196       1268                      0  \n",
       "2             -1          86        459                      0  \n",
       "3              0          29        167                      0  \n",
       "4              1         112        690                      0  \n",
       "...          ...         ...        ...                    ...  \n",
       "199697        -1          18        107                      0  \n",
       "199698        -1          36        248                      0  \n",
       "199699         0           9         50                      0  \n",
       "199700         0          13         77                      0  \n",
       "199701         1          34        215                      0  \n",
       "\n",
       "[199702 rows x 6 columns]"
      ]
     },
     "execution_count": 12,
     "metadata": {},
     "output_type": "execute_result"
    }
   ],
   "source": [
    "df  = pd.read_csv(\"data/preprocessing_df.csv\")\n",
    "df"
   ]
  },
  {
   "cell_type": "code",
   "execution_count": 13,
   "id": "b9ff1054",
   "metadata": {},
   "outputs": [],
   "source": [
    "df.text = df.text.fillna(\"\")\n"
   ]
  },
  {
   "cell_type": "code",
   "execution_count": 14,
   "id": "991e2d3c",
   "metadata": {},
   "outputs": [
    {
     "data": {
      "text/plain": [
       "<Experiment: artifact_location='s3://mlflow-bucket-114/101431507168865979', creation_time=1751117239198, experiment_id='101431507168865979', last_update_time=1751117239198, lifecycle_stage='active', name='Exp2 : BoW vs TfIdf', tags={}>"
      ]
     },
     "execution_count": 14,
     "metadata": {},
     "output_type": "execute_result"
    }
   ],
   "source": [
    "mlflow.set_tracking_uri(tracking_uri)\n",
    "mlflow.set_experiment(\"Exp2 : BoW vs TfIdf\")\n"
   ]
  },
  {
   "cell_type": "code",
   "execution_count": 15,
   "id": "4139e945",
   "metadata": {},
   "outputs": [
    {
     "name": "stderr",
     "output_type": "stream",
     "text": [
      "2025/06/28 16:54:51 WARNING mlflow.models.model: `artifact_path` is deprecated. Please use `name` instead.\n",
      "\u001b[31m2025/06/28 16:54:58 WARNING mlflow.models.model: Model logged without a signature and input example. Please set `input_example` parameter when logging the model to auto infer the model signature.\u001b[0m\n"
     ]
    },
    {
     "name": "stdout",
     "output_type": "stream",
     "text": [
      "🏃 View run BoW_(1, 1)_RandomForest at: http://ec2-16-170-247-92.eu-north-1.compute.amazonaws.com:5000/#/experiments/101431507168865979/runs/a3ed2e68a9714763949ea4d6c7e0e38d\n",
      "🧪 View experiment at: http://ec2-16-170-247-92.eu-north-1.compute.amazonaws.com:5000/#/experiments/101431507168865979\n"
     ]
    },
    {
     "name": "stderr",
     "output_type": "stream",
     "text": [
      "2025/06/28 16:55:34 WARNING mlflow.models.model: `artifact_path` is deprecated. Please use `name` instead.\n",
      "\u001b[31m2025/06/28 16:55:40 WARNING mlflow.models.model: Model logged without a signature and input example. Please set `input_example` parameter when logging the model to auto infer the model signature.\u001b[0m\n"
     ]
    },
    {
     "name": "stdout",
     "output_type": "stream",
     "text": [
      "🏃 View run TF-IDF_(1, 1)_RandomForest at: http://ec2-16-170-247-92.eu-north-1.compute.amazonaws.com:5000/#/experiments/101431507168865979/runs/1e33a999417840b39a496986d25e98ac\n",
      "🧪 View experiment at: http://ec2-16-170-247-92.eu-north-1.compute.amazonaws.com:5000/#/experiments/101431507168865979\n"
     ]
    },
    {
     "name": "stderr",
     "output_type": "stream",
     "text": [
      "2025/06/28 16:56:15 WARNING mlflow.models.model: `artifact_path` is deprecated. Please use `name` instead.\n",
      "\u001b[31m2025/06/28 16:56:21 WARNING mlflow.models.model: Model logged without a signature and input example. Please set `input_example` parameter when logging the model to auto infer the model signature.\u001b[0m\n"
     ]
    },
    {
     "name": "stdout",
     "output_type": "stream",
     "text": [
      "🏃 View run BoW_(1, 2)_RandomForest at: http://ec2-16-170-247-92.eu-north-1.compute.amazonaws.com:5000/#/experiments/101431507168865979/runs/32b9b7a5fea64ddd861ca9b2149b4178\n",
      "🧪 View experiment at: http://ec2-16-170-247-92.eu-north-1.compute.amazonaws.com:5000/#/experiments/101431507168865979\n"
     ]
    },
    {
     "name": "stderr",
     "output_type": "stream",
     "text": [
      "2025/06/28 16:57:04 WARNING mlflow.models.model: `artifact_path` is deprecated. Please use `name` instead.\n",
      "\u001b[31m2025/06/28 16:57:10 WARNING mlflow.models.model: Model logged without a signature and input example. Please set `input_example` parameter when logging the model to auto infer the model signature.\u001b[0m\n"
     ]
    },
    {
     "name": "stdout",
     "output_type": "stream",
     "text": [
      "🏃 View run TF-IDF_(1, 2)_RandomForest at: http://ec2-16-170-247-92.eu-north-1.compute.amazonaws.com:5000/#/experiments/101431507168865979/runs/6628ff1cf0ba49d6afafd80070080d95\n",
      "🧪 View experiment at: http://ec2-16-170-247-92.eu-north-1.compute.amazonaws.com:5000/#/experiments/101431507168865979\n"
     ]
    },
    {
     "name": "stderr",
     "output_type": "stream",
     "text": [
      "2025/06/28 16:57:52 WARNING mlflow.models.model: `artifact_path` is deprecated. Please use `name` instead.\n",
      "\u001b[31m2025/06/28 16:57:58 WARNING mlflow.models.model: Model logged without a signature and input example. Please set `input_example` parameter when logging the model to auto infer the model signature.\u001b[0m\n"
     ]
    },
    {
     "name": "stdout",
     "output_type": "stream",
     "text": [
      "🏃 View run BoW_(1, 3)_RandomForest at: http://ec2-16-170-247-92.eu-north-1.compute.amazonaws.com:5000/#/experiments/101431507168865979/runs/05436dd8de674b04ba6e933233af066d\n",
      "🧪 View experiment at: http://ec2-16-170-247-92.eu-north-1.compute.amazonaws.com:5000/#/experiments/101431507168865979\n"
     ]
    },
    {
     "name": "stderr",
     "output_type": "stream",
     "text": [
      "2025/06/28 16:58:43 WARNING mlflow.models.model: `artifact_path` is deprecated. Please use `name` instead.\n",
      "\u001b[31m2025/06/28 16:58:49 WARNING mlflow.models.model: Model logged without a signature and input example. Please set `input_example` parameter when logging the model to auto infer the model signature.\u001b[0m\n"
     ]
    },
    {
     "name": "stdout",
     "output_type": "stream",
     "text": [
      "🏃 View run TF-IDF_(1, 3)_RandomForest at: http://ec2-16-170-247-92.eu-north-1.compute.amazonaws.com:5000/#/experiments/101431507168865979/runs/9064bfda1ea24f1191cf437c68c2f2b4\n",
      "🧪 View experiment at: http://ec2-16-170-247-92.eu-north-1.compute.amazonaws.com:5000/#/experiments/101431507168865979\n"
     ]
    }
   ],
   "source": [
    "def run_experiment(vectorizer_type,ngram_range,vectorizer_max_features,vectorizer_name):\n",
    "    if vectorizer_type == \"BoW\":\n",
    "        vectorizer = CountVectorizer(ngram_range=ngram_range,max_features=vectorizer_max_features)\n",
    "    else:\n",
    "        vectorizer = TfidfVectorizer(ngram_range=ngram_range,max_features=vectorizer_max_features)\n",
    "        \n",
    "    X = df.text\n",
    "    y = df.category\n",
    "    \n",
    "    X_train,X_test,y_train,y_test = train_test_split(X,y,test_size=0.2,random_state=114,stratify=y)\n",
    "    \n",
    "    X_train = vectorizer.fit_transform(X_train)\n",
    "    X_test = vectorizer.transform(X_test)\n",
    "    \n",
    "    with mlflow.start_run() as run:\n",
    "        mlflow.set_tag(\"mlflow.runName\", f\"{vectorizer_name}_{ngram_range}_RandomForest\")\n",
    "        mlflow.set_tag(\"experiment_type\", \"feature_engineering\")\n",
    "        mlflow.set_tag(\"model_type\", \"RandomForestClassifier\")\n",
    "\n",
    "        # Add a description\n",
    "        mlflow.set_tag(\"description\", f\"RandomForest with {vectorizer_name}, ngram_range={ngram_range}, max_features={vectorizer_max_features}\")\n",
    "\n",
    "        # Log vectorizer parameters\n",
    "        mlflow.log_param(\"vectorizer_type\", vectorizer_type)\n",
    "        mlflow.log_param(\"ngram_range\", ngram_range)\n",
    "        mlflow.log_param(\"vectorizer_max_features\", vectorizer_max_features)\n",
    "\n",
    "        # Log Random Forest parameters\n",
    "        n_estimators = 200\n",
    "        max_depth = 15\n",
    "\n",
    "        mlflow.log_param(\"n_estimators\", n_estimators)\n",
    "        mlflow.log_param(\"max_depth\", max_depth)\n",
    "\n",
    "        # Initialize and train the model\n",
    "        model = RandomForestClassifier(n_estimators=n_estimators,class_weight=\"balanced\" ,max_depth=max_depth, random_state=42)\n",
    "        model.fit(X_train, y_train)\n",
    "\n",
    "        # Step 5: Make predictions and log metrics\n",
    "        y_pred = model.predict(X_test)\n",
    "\n",
    "        # Log accuracy\n",
    "        accuracy = accuracy_score(y_test, y_pred)\n",
    "        mlflow.log_metric(\"accuracy\", accuracy)\n",
    "\n",
    "        # Log classification report\n",
    "        classification_rep = classification_report(y_test, y_pred, output_dict=True)\n",
    "        for label, metrics in classification_rep.items():\n",
    "            if isinstance(metrics, dict):\n",
    "                for metric, value in metrics.items():\n",
    "                    mlflow.log_metric(f\"{label}_{metric}\", value)\n",
    "\n",
    "        # Log confusion matrix\n",
    "        conf_matrix = confusion_matrix(y_test, y_pred)\n",
    "        plt.figure(figsize=(8, 6))\n",
    "        sns.heatmap(conf_matrix, annot=True, fmt=\"d\", cmap=\"Blues\")\n",
    "        plt.xlabel(\"Predicted\")\n",
    "        plt.ylabel(\"Actual\")\n",
    "        plt.title(f\"Confusion Matrix: {vectorizer_name}, {ngram_range}\")\n",
    "        plt.savefig(\"confusion_matrix.png\")\n",
    "        mlflow.log_artifact(\"confusion_matrix.png\")\n",
    "        plt.close()\n",
    "\n",
    "        # Log the model\n",
    "        mlflow.sklearn.log_model(model, f\"random_forest_model_{vectorizer_name}_{ngram_range}\")\n",
    "\n",
    "ngram_ranges = [(1,1),(1,2),(1,3)]\n",
    "max_features = 5000\n",
    "\n",
    "for ngram_range in ngram_ranges:\n",
    "    run_experiment(\"BoW\",ngram_range,max_features,vectorizer_name=\"BoW\")\n",
    "    run_experiment(\"TF-IDF\",ngram_range,max_features,vectorizer_name=\"TF-IDF\")"
   ]
  }
 ],
 "metadata": {
  "kernelspec": {
   "display_name": "Python 3",
   "language": "python",
   "name": "python3"
  },
  "language_info": {
   "codemirror_mode": {
    "name": "ipython",
    "version": 3
   },
   "file_extension": ".py",
   "mimetype": "text/x-python",
   "name": "python",
   "nbconvert_exporter": "python",
   "pygments_lexer": "ipython3",
   "version": "3.13.5"
  }
 },
 "nbformat": 4,
 "nbformat_minor": 5
}
