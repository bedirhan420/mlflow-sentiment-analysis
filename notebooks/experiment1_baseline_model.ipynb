{
 "cells": [
  {
   "cell_type": "code",
   "execution_count": null,
   "id": "c192c6a3",
   "metadata": {},
   "outputs": [],
   "source": [
    "# mlflow server -h 0.0.0.0 --default-artifact-root s3://mlflow-bucket-114\n"
   ]
  },
  {
   "cell_type": "code",
   "execution_count": 2,
   "id": "f96b1d99",
   "metadata": {},
   "outputs": [],
   "source": [
    "tracking_uri = \"http://ec2-16-170-247-92.eu-north-1.compute.amazonaws.com:5000\""
   ]
  },
  {
   "cell_type": "code",
   "execution_count": 3,
   "id": "857e225a",
   "metadata": {},
   "outputs": [
    {
     "name": "stdout",
     "output_type": "stream",
     "text": [
      "🏃 View run fun-calf-380 at: http://ec2-16-170-247-92.eu-north-1.compute.amazonaws.com:5000/#/experiments/0/runs/d3b2f65bd3bb47d7b2aefe922b90f3d1\n",
      "🧪 View experiment at: http://ec2-16-170-247-92.eu-north-1.compute.amazonaws.com:5000/#/experiments/0\n"
     ]
    }
   ],
   "source": [
    "import mlflow\n",
    "\n",
    "mlflow.set_tracking_uri(tracking_uri)\n",
    "\n",
    "with mlflow.start_run():\n",
    "    mlflow.log_param(\"param1\",15)\n",
    "    mlflow.log_metric(\"metric1\",0.89)"
   ]
  },
  {
   "cell_type": "code",
   "execution_count": 4,
   "id": "8c104fda",
   "metadata": {},
   "outputs": [],
   "source": [
    "import mlflow\n",
    "import mlflow.sklearn\n",
    "from sklearn.ensemble import RandomForestClassifier\n",
    "from sklearn.feature_extraction.text import CountVectorizer\n",
    "from sklearn.model_selection import train_test_split,cross_val_predict,StratifiedKFold\n",
    "from sklearn.metrics import accuracy_score,classification_report,confusion_matrix\n",
    "import pandas as pd\n",
    "import matplotlib.pyplot as plt\n",
    "import seaborn as sns"
   ]
  },
  {
   "cell_type": "code",
   "execution_count": 5,
   "id": "7c1f8a06",
   "metadata": {},
   "outputs": [
    {
     "data": {
      "text/html": [
       "<div>\n",
       "<style scoped>\n",
       "    .dataframe tbody tr th:only-of-type {\n",
       "        vertical-align: middle;\n",
       "    }\n",
       "\n",
       "    .dataframe tbody tr th {\n",
       "        vertical-align: top;\n",
       "    }\n",
       "\n",
       "    .dataframe thead th {\n",
       "        text-align: right;\n",
       "    }\n",
       "</style>\n",
       "<table border=\"1\" class=\"dataframe\">\n",
       "  <thead>\n",
       "    <tr style=\"text-align: right;\">\n",
       "      <th></th>\n",
       "      <th>Unnamed: 0</th>\n",
       "      <th>text</th>\n",
       "      <th>category</th>\n",
       "      <th>word_count</th>\n",
       "      <th>num_chars</th>\n",
       "      <th>num_punctuation_chars</th>\n",
       "    </tr>\n",
       "  </thead>\n",
       "  <tbody>\n",
       "    <tr>\n",
       "      <th>0</th>\n",
       "      <td>0</td>\n",
       "      <td>family mormon never tried explain still stare ...</td>\n",
       "      <td>1</td>\n",
       "      <td>39</td>\n",
       "      <td>259</td>\n",
       "      <td>0</td>\n",
       "    </tr>\n",
       "    <tr>\n",
       "      <th>1</th>\n",
       "      <td>1</td>\n",
       "      <td>buddhism much lot compatible christianity espe...</td>\n",
       "      <td>1</td>\n",
       "      <td>196</td>\n",
       "      <td>1268</td>\n",
       "      <td>0</td>\n",
       "    </tr>\n",
       "    <tr>\n",
       "      <th>2</th>\n",
       "      <td>2</td>\n",
       "      <td>seriously say thing first get complex explain ...</td>\n",
       "      <td>-1</td>\n",
       "      <td>86</td>\n",
       "      <td>459</td>\n",
       "      <td>0</td>\n",
       "    </tr>\n",
       "    <tr>\n",
       "      <th>3</th>\n",
       "      <td>3</td>\n",
       "      <td>learned want teach different focus goal wrappi...</td>\n",
       "      <td>0</td>\n",
       "      <td>29</td>\n",
       "      <td>167</td>\n",
       "      <td>0</td>\n",
       "    </tr>\n",
       "    <tr>\n",
       "      <th>4</th>\n",
       "      <td>4</td>\n",
       "      <td>benefit may want read living buddha living chr...</td>\n",
       "      <td>1</td>\n",
       "      <td>112</td>\n",
       "      <td>690</td>\n",
       "      <td>0</td>\n",
       "    </tr>\n",
       "    <tr>\n",
       "      <th>...</th>\n",
       "      <td>...</td>\n",
       "      <td>...</td>\n",
       "      <td>...</td>\n",
       "      <td>...</td>\n",
       "      <td>...</td>\n",
       "      <td>...</td>\n",
       "    </tr>\n",
       "    <tr>\n",
       "      <th>199697</th>\n",
       "      <td>162975</td>\n",
       "      <td>crore paid neerav modi recovered congress lead...</td>\n",
       "      <td>-1</td>\n",
       "      <td>18</td>\n",
       "      <td>107</td>\n",
       "      <td>0</td>\n",
       "    </tr>\n",
       "    <tr>\n",
       "      <th>199698</th>\n",
       "      <td>162976</td>\n",
       "      <td>dear rss terrorist payal gawar modi killing pl...</td>\n",
       "      <td>-1</td>\n",
       "      <td>36</td>\n",
       "      <td>248</td>\n",
       "      <td>0</td>\n",
       "    </tr>\n",
       "    <tr>\n",
       "      <th>199699</th>\n",
       "      <td>162977</td>\n",
       "      <td>cover interaction forum left</td>\n",
       "      <td>0</td>\n",
       "      <td>9</td>\n",
       "      <td>50</td>\n",
       "      <td>0</td>\n",
       "    </tr>\n",
       "    <tr>\n",
       "      <th>199700</th>\n",
       "      <td>162978</td>\n",
       "      <td>big project came india modi dream project happ...</td>\n",
       "      <td>0</td>\n",
       "      <td>13</td>\n",
       "      <td>77</td>\n",
       "      <td>0</td>\n",
       "    </tr>\n",
       "    <tr>\n",
       "      <th>199701</th>\n",
       "      <td>162979</td>\n",
       "      <td>ever listen like gurukul discipline maintained...</td>\n",
       "      <td>1</td>\n",
       "      <td>34</td>\n",
       "      <td>215</td>\n",
       "      <td>0</td>\n",
       "    </tr>\n",
       "  </tbody>\n",
       "</table>\n",
       "<p>199702 rows × 6 columns</p>\n",
       "</div>"
      ],
      "text/plain": [
       "        Unnamed: 0                                               text  \\\n",
       "0                0  family mormon never tried explain still stare ...   \n",
       "1                1  buddhism much lot compatible christianity espe...   \n",
       "2                2  seriously say thing first get complex explain ...   \n",
       "3                3  learned want teach different focus goal wrappi...   \n",
       "4                4  benefit may want read living buddha living chr...   \n",
       "...            ...                                                ...   \n",
       "199697      162975  crore paid neerav modi recovered congress lead...   \n",
       "199698      162976  dear rss terrorist payal gawar modi killing pl...   \n",
       "199699      162977                       cover interaction forum left   \n",
       "199700      162978  big project came india modi dream project happ...   \n",
       "199701      162979  ever listen like gurukul discipline maintained...   \n",
       "\n",
       "        category  word_count  num_chars  num_punctuation_chars  \n",
       "0              1          39        259                      0  \n",
       "1              1         196       1268                      0  \n",
       "2             -1          86        459                      0  \n",
       "3              0          29        167                      0  \n",
       "4              1         112        690                      0  \n",
       "...          ...         ...        ...                    ...  \n",
       "199697        -1          18        107                      0  \n",
       "199698        -1          36        248                      0  \n",
       "199699         0           9         50                      0  \n",
       "199700         0          13         77                      0  \n",
       "199701         1          34        215                      0  \n",
       "\n",
       "[199702 rows x 6 columns]"
      ]
     },
     "execution_count": 5,
     "metadata": {},
     "output_type": "execute_result"
    }
   ],
   "source": [
    "df  = pd.read_csv(\"data/preprocessing_df.csv\")\n",
    "df"
   ]
  },
  {
   "cell_type": "code",
   "execution_count": 6,
   "id": "df0dd99f",
   "metadata": {},
   "outputs": [],
   "source": [
    "df.text = df.text.fillna(\"\")\n"
   ]
  },
  {
   "cell_type": "code",
   "execution_count": 7,
   "id": "a98a3155",
   "metadata": {},
   "outputs": [],
   "source": [
    "vectorizer = CountVectorizer(max_features=10000)"
   ]
  },
  {
   "cell_type": "code",
   "execution_count": 8,
   "id": "88e512f0",
   "metadata": {},
   "outputs": [],
   "source": [
    "X = vectorizer.fit_transform(df.text)\n",
    "y = df.category"
   ]
  },
  {
   "cell_type": "code",
   "execution_count": 9,
   "id": "aa709192",
   "metadata": {},
   "outputs": [
    {
     "data": {
      "text/plain": [
       "<Compressed Sparse Row sparse matrix of dtype 'int64'\n",
       "\twith 2521737 stored elements and shape (199702, 10000)>"
      ]
     },
     "execution_count": 9,
     "metadata": {},
     "output_type": "execute_result"
    }
   ],
   "source": [
    "X"
   ]
  },
  {
   "cell_type": "code",
   "execution_count": 10,
   "id": "3db1c653",
   "metadata": {},
   "outputs": [
    {
     "data": {
      "text/plain": [
       "0         1\n",
       "1         1\n",
       "2        -1\n",
       "3         0\n",
       "4         1\n",
       "         ..\n",
       "199697   -1\n",
       "199698   -1\n",
       "199699    0\n",
       "199700    0\n",
       "199701    1\n",
       "Name: category, Length: 199702, dtype: int64"
      ]
     },
     "execution_count": 10,
     "metadata": {},
     "output_type": "execute_result"
    }
   ],
   "source": [
    "y"
   ]
  },
  {
   "cell_type": "code",
   "execution_count": 11,
   "id": "87caa77c",
   "metadata": {},
   "outputs": [],
   "source": [
    "mlflow.set_tracking_uri(tracking_uri)"
   ]
  },
  {
   "cell_type": "code",
   "execution_count": 12,
   "id": "84373741",
   "metadata": {},
   "outputs": [
    {
     "data": {
      "text/plain": [
       "<Experiment: artifact_location='s3://mlflow-bucket-114/615257078353441445', creation_time=1751070094398, experiment_id='615257078353441445', last_update_time=1751070094398, lifecycle_stage='active', name='RF baseline', tags={}>"
      ]
     },
     "execution_count": 12,
     "metadata": {},
     "output_type": "execute_result"
    }
   ],
   "source": [
    "mlflow.set_experiment(\"RF baseline\")"
   ]
  },
  {
   "cell_type": "code",
   "execution_count": 15,
   "id": "90fd565d",
   "metadata": {},
   "outputs": [
    {
     "name": "stderr",
     "output_type": "stream",
     "text": [
      "2025/06/28 03:52:02 WARNING mlflow.models.model: `artifact_path` is deprecated. Please use `name` instead.\n",
      "\u001b[31m2025/06/28 03:52:08 WARNING mlflow.models.model: Model logged without a signature and input example. Please set `input_example` parameter when logging the model to auto infer the model signature.\u001b[0m\n"
     ]
    },
    {
     "name": "stdout",
     "output_type": "stream",
     "text": [
      "🏃 View run RF_Baseline_Split at: http://ec2-16-170-247-92.eu-north-1.compute.amazonaws.com:5000/#/experiments/615257078353441445/runs/56ae130763304c1fbd6bdaec4ba9a788\n",
      "🧪 View experiment at: http://ec2-16-170-247-92.eu-north-1.compute.amazonaws.com:5000/#/experiments/615257078353441445\n",
      "Accuracy : 0.742294884955309\n"
     ]
    },
    {
     "data": {
      "image/png": "[encoded data removed]",
      "text/plain": [
       "<Figure size 800x600 with 2 Axes>"
      ]
     },
     "metadata": {},
     "output_type": "display_data"
    }
   ],
   "source": [
    "X_train, X_test, y_train, y_test = train_test_split(X, y, test_size=0.2, random_state=114, stratify=y)\n",
    "\n",
    "# 4. MLflow deneyi\n",
    "with mlflow.start_run() as run:\n",
    "    mlflow.set_tag(\"mlflow.runName\", \"RF_Baseline_Split\")\n",
    "    mlflow.set_tag(\"experiment_type\", \"baseline\")\n",
    "    mlflow.set_tag(\"model_type\", \"RFClassifier\")\n",
    "    mlflow.set_tag(\"description\", \"Baseline RF model for sentiment analysis using bag of words\")\n",
    "\n",
    "    mlflow.log_param(\"vectorizer_type\", \"CountVectorizer\")\n",
    "    mlflow.log_param(\"vectorizer_max_features\", vectorizer.max_features)\n",
    "\n",
    "    n_estimators = 200\n",
    "    max_depth = 15\n",
    "    mlflow.log_param(\"n_estimators\", n_estimators)\n",
    "    mlflow.log_param(\"max_depth\", max_depth)\n",
    "\n",
    "    # Model eğitimi\n",
    "    model = RandomForestClassifier(n_estimators=n_estimators, max_depth=max_depth,class_weight=\"balanced\", random_state=114)\n",
    "    model.fit(X_train, y_train)\n",
    "\n",
    "    # Tahmin ve metrikler\n",
    "    y_pred = model.predict(X_test)\n",
    "    accuracy = accuracy_score(y_test, y_pred)\n",
    "    mlflow.log_metric(\"accuracy\", accuracy)\n",
    "\n",
    "    classification_rep = classification_report(y_test, y_pred, output_dict=True)\n",
    "    for label, metrics in classification_rep.items():\n",
    "        if isinstance(metrics, dict):\n",
    "            for metric, value in metrics.items():\n",
    "                mlflow.log_metric(f\"{label}_{metric}\", value)\n",
    "\n",
    "    # Confusion Matrix\n",
    "    cm = confusion_matrix(y_test, y_pred)\n",
    "    plt.figure(figsize=(8, 6))\n",
    "    sns.heatmap(cm, annot=True, fmt=\"d\", cmap=\"Blues\")\n",
    "    plt.xlabel(\"Predicted\")\n",
    "    plt.ylabel(\"Actual\")\n",
    "    plt.title(\"Confusion Matrix\")\n",
    "    plt.tight_layout()\n",
    "    plt.savefig(\"confusion_matrix.png\")\n",
    "    mlflow.log_artifact(\"confusion_matrix.png\")\n",
    "\n",
    "    # Model ve veri loglama\n",
    "    mlflow.sklearn.log_model(model, \"random_forest_model\")\n",
    "    df.to_csv(\"dataset.csv\", index=False)\n",
    "    mlflow.log_artifact(\"dataset.csv\")\n",
    "\n",
    "print(f\"Accuracy : {accuracy}\")"
   ]
  },
  {
   "cell_type": "code",
   "execution_count": 14,
   "id": "c21ab511",
   "metadata": {},
   "outputs": [
    {
     "name": "stdout",
     "output_type": "stream",
     "text": [
      "{'-1': {'precision': 1.0, 'recall': 0.0043423608730430805, 'f1-score': 0.008647172602116282, 'support': 8751.0}, '0': {'precision': 0.0, 'recall': 0.0, 'f1-score': 0.0, 'support': 13591.0}, '1': {'precision': 0.44104453299250684, 'recall': 1.0, 'f1-score': 0.6121178393794998, 'support': 17599.0}, 'accuracy': 0.44157632507949224, 'macro avg': {'precision': 0.48034817766416893, 'recall': 0.33478078695768104, 'f1-score': 0.2069216706605387, 'support': 39941.0}, 'weighted avg': {'precision': 0.41343338264277624, 'recall': 0.44157632507949224, 'f1-score': 0.271608954775317, 'support': 39941.0}}\n"
     ]
    }
   ],
   "source": [
    "print(classification_rep)"
   ]
  }
 ],
 "metadata": {
  "kernelspec": {
   "display_name": "Python 3",
   "language": "python",
   "name": "python3"
  },
  "language_info": {
   "codemirror_mode": {
    "name": "ipython",
    "version": 3
   },
   "file_extension": ".py",
   "mimetype": "text/x-python",
   "name": "python",
   "nbconvert_exporter": "python",
   "pygments_lexer": "ipython3",
   "version": "3.13.5"
  }
 },
 "nbformat": 4,
 "nbformat_minor": 5
}
